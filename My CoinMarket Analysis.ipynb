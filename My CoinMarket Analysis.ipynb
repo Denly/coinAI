{
 "cells": [
  {
   "cell_type": "code",
   "execution_count": 2,
   "metadata": {},
   "outputs": [
    {
     "name": "stdout",
     "output_type": "stream",
     "text": [
      "Position    Name          Market Cap      Price    Available Supply    Volume 24h     Change 7h\n",
      "----------  ------------  --------------  -------  ------------------  -------------  -----------\n",
      "1           Bitcoin       96994621603.80  5816.32  16676287.00         8739835084.80  -8.99\n",
      "2           Ethereum      29461377521.10  307.89   5058526.85          1563368652.80  -2.68\n",
      "3           Bitcoin Cash  26709055491.00  1589.82  4585960.05          9034606182.40  19.70\n",
      "4           Ripple        7636565698.95   0.20     1311201.30          244148174.85   -5.58\n",
      "5           Dash          3424994890.31   445.69   588071.73           323441483.78   28.61\n",
      "6           Litecoin      3136812155.38   58.30    538593.75           311914700.80   -6.67\n",
      "7           Monero        1840944586.65   119.97   316090.07           135437082.62   0.55\n",
      "8           NEO           1726055500.00   26.55    296364.25           61530267.65    -7.27\n",
      "9           NEM           1615544999.82   0.18     277389.00           11573837.00    -6.48\n",
      "10          IOTA          1606429527.06   0.58     275824.19           47125220.56    -0.72\n"
     ]
    }
   ],
   "source": [
    "#!/usr/bin/python\n",
    "import sys\n",
    "import json\n",
    "from tabulate import tabulate\n",
    "try: # For Python 3.0 and later\n",
    "    from urllib.request import urlopen\n",
    "except ImportError: # Fall back to Python 2's urllib2\n",
    "    from urllib2 import urlopen\n",
    "\n",
    "\n",
    "def get_position(json):\n",
    "    try:\n",
    "        return int(json['position'])\n",
    "    except KeyError:\n",
    "        return 1000\n",
    "\n",
    "count = 10\n",
    "currency = \"usd\"\n",
    "url = \"http://coinmarketcap.northpole.ro/api/v5/all.json\"\n",
    "headers = [\"Position\",\"Name\",\"Market Cap\",\"Price\",\"Available Supply\",\"Volume 24h\",\"Change 7h\"]\n",
    "\n",
    "if len(sys.argv) == 2:\n",
    "        count = int(sys.argv[1])\n",
    "\n",
    "\n",
    "data = urlopen(url).read()\n",
    "data = json.loads(data)['markets']\n",
    "data.sort(key=get_position)\n",
    "btc_price = float(data[0]['price'][currency])\n",
    "\n",
    "table = []\n",
    "for d in data[0:count]:\n",
    "        volume = float(d['volume24']['btc'])*btc_price\n",
    "        table.append([d['position'],d['name'],d['marketCap'][currency],d['price'][currency],d['marketCap']['btc'],volume,d['change7h'][currency]])\n",
    "\n",
    "print(tabulate(table,headers,numalign=\"left\",stralign=\"left\",floatfmt=\".2f\"))\n",
    "#print(data[:5])\n"
   ]
  },
  {
   "cell_type": "code",
   "execution_count": 3,
   "metadata": {},
   "outputs": [
    {
     "data": {
      "image/png": "[encoded data removed]",
      "text/plain": [
       "<matplotlib.figure.Figure at 0x10b5bc908>"
      ]
     },
     "metadata": {},
     "output_type": "display_data"
    }
   ],
   "source": [
    "import matplotlib.pyplot as plt\n",
    "import numpy as np\n",
    "\n",
    "fig, ax = plt.subplots()\n",
    "names = tuple(map(lambda x: x['name'], data[:5]))\n",
    "MarketCap = tuple(map(lambda x: x['marketCap']['usd'], data[:5]))\n",
    "availableSupply = tuple(map(lambda x: x['availableSupply'], data[:5]))\n",
    "\n",
    "y_pos = np.arange(len(names))\n",
    "error = np.random.rand(len(names))\n",
    "\n",
    "ax.barh(y_pos, MarketCap, xerr=error, align='center',\n",
    "        color='green', ecolor='black')\n",
    "ax.set_yticks(y_pos)\n",
    "ax.set_yticklabels(names)\n",
    "ax.invert_yaxis()  # labels read top-to-bottom\n",
    "ax.set_xlabel('MarketCap (10^11)')\n",
    "ax.set_title('How big is the market cap?')\n",
    "\n",
    "plt.show()\n"
   ]
  },
  {
   "cell_type": "code",
   "execution_count": null,
   "metadata": {},
   "outputs": [],
   "source": []
  },
  {
   "cell_type": "code",
   "execution_count": null,
   "metadata": {},
   "outputs": [],
   "source": []
  },
  {
   "cell_type": "code",
   "execution_count": null,
   "metadata": {},
   "outputs": [],
   "source": [
    "\n",
    "\n",
    "f = open(\"filename.txt\", \"w\")\n",
    "f.write(\"Writing into a file\")\n",
    "f.close() "
   ]
  },
  {
   "cell_type": "code",
   "execution_count": null,
   "metadata": {},
   "outputs": [],
   "source": []
  },
  {
   "cell_type": "code",
   "execution_count": 5,
   "metadata": {},
   "outputs": [
    {
     "name": "stdout",
     "output_type": "stream",
     "text": [
      "{'period': '+1DAY',\n",
      " 'published_at_end': datetime.datetime(2017, 11, 12, 0, 0, tzinfo=tzutc()),\n",
      " 'published_at_start': datetime.datetime(2017, 11, 5, 0, 0, tzinfo=tzutc()),\n",
      " 'time_series': [{'count': 58,\n",
      "                  'published_at': datetime.datetime(2017, 11, 5, 0, 0, tzinfo=tzutc())},\n",
      "                 {'count': 139,\n",
      "                  'published_at': datetime.datetime(2017, 11, 6, 0, 0, tzinfo=tzutc())},\n",
      "                 {'count': 144,\n",
      "                  'published_at': datetime.datetime(2017, 11, 7, 0, 0, tzinfo=tzutc())},\n",
      "                 {'count': 221,\n",
      "                  'published_at': datetime.datetime(2017, 11, 8, 0, 0, tzinfo=tzutc())},\n",
      "                 {'count': 160,\n",
      "                  'published_at': datetime.datetime(2017, 11, 9, 0, 0, tzinfo=tzutc())},\n",
      "                 {'count': 154,\n",
      "                  'published_at': datetime.datetime(2017, 11, 10, 0, 0, tzinfo=tzutc())},\n",
      "                 {'count': 54,\n",
      "                  'published_at': datetime.datetime(2017, 11, 11, 0, 0, tzinfo=tzutc())}]}\n"
     ]
    },
    {
     "data": {
      "text/plain": [
       "'\\ntype(api_response)\\nf = open(\"filename.txt\", \"w\")\\nf.write(api_response)\\nf.close() \\n'"
      ]
     },
     "execution_count": 5,
     "metadata": {},
     "output_type": "execute_result"
    }
   ],
   "source": [
    "import aylien_news_api\n",
    "from aylien_news_api.rest import ApiException\n",
    "from pprint import pprint\n",
    "\n",
    "# Configure API key authorization: app_id\n",
    "aylien_news_api.configuration.api_key['X-AYLIEN-NewsAPI-Application-ID'] = '07769874'\n",
    "# Configure API key authorization: app_key\n",
    "aylien_news_api.configuration.api_key['X-AYLIEN-NewsAPI-Application-Key'] = 'c95f777654e0656e80b409a2e796e05b'\n",
    "\n",
    "# create an instance of the API class\n",
    "api_instance = aylien_news_api.DefaultApi()\n",
    "\n",
    "\n",
    "opts = { \n",
    "    'text': 'bitcoin',\n",
    "    'not_sentiment_title_polarity': 'negative',\n",
    "    'not_sentiment_body_polarity': 'negative',\n",
    "    'published_at_start': 'NOW-7DAYS/DAY',\n",
    "    'published_at_end': 'NOW/DAY',\n",
    "    'period': '+1DAY'\n",
    "}\n",
    "\n",
    "def callback(res):\n",
    "    print('res type is ', type(res))\n",
    "    print('--pprint--')\n",
    "    pprint(res)\n",
    "    print('--to dict--')\n",
    "    pprint(res.to_dict())\n",
    "    print('res type is ', type(res))\n",
    "    print('--time_series--')\n",
    "    pprint(res.time_series)\n",
    "    print('res type is ', type(res))\n",
    "    \n",
    "try: \n",
    "    # List time series\n",
    "    '''\n",
    "    If the method is called asynchronously, \n",
    "    returns the request thread,\n",
    "    and the callback res is TimeSeriesList obj.\n",
    "        >>> def callback_function(response):\n",
    "        >>>     pprint(response)\n",
    "        >>>\n",
    "        >>> thread = api.list_time_series(callback=callback_function)\n",
    "    Else it return a thread with a list\n",
    "    '''\n",
    "    api_response = api_instance.list_time_series(**opts)#, callback=callback)\n",
    "    \n",
    "    pprint(api_response)\n",
    "except ApiException as e:\n",
    "    pprint(\"Exception when calling DefaultApi->list_time_series: %s\\n\" % e)\n",
    "    \n",
    "    \n",
    "    \n",
    "\n",
    "# save file\n",
    "'''\n",
    "type(api_response)\n",
    "f = open(\"filename.txt\", \"w\")\n",
    "f.write(api_response)\n",
    "f.close() \n",
    "'''"
   ]
  },
  {
   "cell_type": "code",
   "execution_count": null,
   "metadata": {},
   "outputs": [],
   "source": [
    "print(type(api_response.time_series))"
   ]
  },
  {
   "cell_type": "code",
   "execution_count": 6,
   "metadata": {},
   "outputs": [
    {
     "name": "stdout",
     "output_type": "stream",
     "text": [
      "--NumberOfGoodNewsByDate--\n",
      "[{'count': 22, 'date': '26-04-2017'},\n",
      " {'count': 17, 'date': '27-04-2017'},\n",
      " {'count': 13, 'date': '28-04-2017'},\n",
      " {'count': 5, 'date': '29-04-2017'},\n",
      " {'count': 6, 'date': '30-04-2017'}]\n"
     ]
    }
   ],
   "source": [
    "import aylien_news_api\n",
    "from aylien_news_api.rest import ApiException\n",
    "from pprint import pprint\n",
    "\n",
    "# Configure API key authorization: app_id\n",
    "aylien_news_api.configuration.api_key['X-AYLIEN-NewsAPI-Application-ID'] = '07769874'\n",
    "# Configure API key authorization: app_key\n",
    "aylien_news_api.configuration.api_key['X-AYLIEN-NewsAPI-Application-Key'] = 'c95f777654e0656e80b409a2e796e05b'\n",
    "# create an instance of the API class\n",
    "api_instance = aylien_news_api.DefaultApi()\n",
    "# dataset\n",
    "NumberOfGoodNewsByDate = []\n",
    "\n",
    "opts = { \n",
    "    'text': 'bitcoin',\n",
    "    'not_sentiment_title_polarity': 'negative',\n",
    "    'not_sentiment_body_polarity': 'negative',\n",
    "    'published_at_start': 'NOW-200DAYS/DAY',\n",
    "    'published_at_end': 'NOW/DAY',\n",
    "    'period': '+1DAY'\n",
    "}\n",
    "\n",
    "try: \n",
    "    # GET TimeSeriesList\n",
    "    api_response = api_instance.list_time_series(**opts)\n",
    "    \n",
    "    \n",
    "except ApiException as e:\n",
    "    pprint(\"Exception when calling DefaultApi->list_time_series: %s\\n\" % e)\n",
    "    \n",
    "NumberOfGoodNewsByDate = list(map(lambda s: {'count': s.count, 'date': s.published_at.strftime(\"%d-%m-%Y\")}, api_response.time_series))\n",
    "print('--NumberOfGoodNewsByDate--')\n",
    "pprint(NumberOfGoodNewsByDate[:5])"
   ]
  },
  {
   "cell_type": "code",
   "execution_count": null,
   "metadata": {},
   "outputs": [],
   "source": []
  },
  {
   "cell_type": "code",
   "execution_count": null,
   "metadata": {},
   "outputs": [],
   "source": []
  },
  {
   "cell_type": "code",
   "execution_count": 7,
   "metadata": {},
   "outputs": [
    {
     "name": "stdout",
     "output_type": "stream",
     "text": [
      "Using matplotlib backend: MacOSX\n",
      "Populating the interactive namespace from numpy and matplotlib\n"
     ]
    },
    {
     "name": "stderr",
     "output_type": "stream",
     "text": [
      "/Library/Frameworks/Python.framework/Versions/3.6/lib/python3.6/site-packages/IPython/core/magics/pylab.py:160: UserWarning: pylab import has clobbered these variables: ['table']\n",
      "`%matplotlib` prevents importing * from pylab and numpy\n",
      "  \"\\n`%matplotlib` prevents importing * from pylab and numpy\"\n"
     ]
    },
    {
     "data": {
      "image/png": "[encoded data removed]",
      "text/plain": [
       "<matplotlib.figure.Figure at 0x10b5bc390>"
      ]
     },
     "metadata": {},
     "output_type": "display_data"
    }
   ],
   "source": [
    "import matplotlib.pyplot as plt\n",
    "import numpy as np\n",
    "%matplotlib\n",
    "%pylab inline\n",
    "pylab.rcParams['figure.figsize'] = (20, 6)\n",
    "\n",
    "\n",
    "fig, ax = plt.subplots()\n",
    "dates = tuple(map(lambda x: x['date'], NumberOfGoodNewsByDate))\n",
    "numbers = tuple(map(lambda x: x['count'], NumberOfGoodNewsByDate))\n",
    "\n",
    "\n",
    "y_pos = np.arange(len(dates))\n",
    "error = np.random.rand(len(dates))\n",
    "\n",
    "ax.bar(y_pos, numbers, align='center',\n",
    "        color='lightblue', ecolor='black')\n",
    "labels = [date if i%30==0 else '' for i, date in enumerate(dates)]\n",
    "ax.set_xticks(np.arange(len(labels)))\n",
    "ax.set_xticklabels(labels)\n",
    "\n",
    "ax.set_xlabel('Date ('+str(len(dates))+ ' dayes)')\n",
    "ax.set_ylabel('Number of good news)')\n",
    "ax.set_title('How many good news published a day?')\n",
    "\n",
    "plt.show()\n"
   ]
  },
  {
   "cell_type": "code",
   "execution_count": 8,
   "metadata": {},
   "outputs": [
    {
     "name": "stdout",
     "output_type": "stream",
     "text": [
      "BTCdata\n",
      "[ {'price': 961.78, 'marketCap': 15460877989.5, 'availableSupply': 16075275, 'volume24': 99510567.7, 'date': '01-01-2017'}\n",
      " {'price': 1002.3, 'marketCap': 16114302847.5, 'availableSupply': 16077325, 'volume24': 143327897.7, 'date': '02-01-2017'}\n",
      " {'price': 1023.26, 'marketCap': 16453137726.6, 'availableSupply': 16079137, 'volume24': 224798966.14, 'date': '03-01-2017'}\n",
      " {'price': 1036.38, 'marketCap': 16666246492.6, 'availableSupply': 16081212, 'volume24': 176239528.14, 'date': '04-01-2017'}\n",
      " {'price': 1147.69, 'marketCap': 18458384346.8, 'availableSupply': 16083075, 'volume24': 336974408.59, 'date': '05-01-2017'}]\n"
     ]
    }
   ],
   "source": [
    "# get BTC dataset\n",
    "import requests\n",
    "import json\n",
    "\n",
    "headers = {\n",
    "    'accept': 'application/json',\n",
    "}\n",
    "\n",
    "params = (\n",
    "    ('coin', 'bitcoin'),\n",
    "    ('format', 'array'),\n",
    ")\n",
    "\n",
    "res = requests.get('https://coinmarketcap.northpole.ro/history.json', headers=headers, params=params)\n",
    "\n",
    "dic = json.loads(res.text)\n",
    "BTCdata = list(  map(lambda x: {'price': x['price']['usd'], 'marketCap': x['marketCap']['usd'], 'availableSupply': x['availableSupply'], 'volume24': x['volume24']['usd'], 'date': x['date']}, dic['history']) )\n",
    "BTCdata = np.array(BTCdata)\n",
    "print('BTCdata')\n",
    "print(BTCdata[:5])\n"
   ]
  },
  {
   "cell_type": "code",
   "execution_count": 9,
   "metadata": {},
   "outputs": [
    {
     "data": {
      "image/png": "[encoded data removed]",
      "text/plain": [
       "<matplotlib.figure.Figure at 0x10713fc88>"
      ]
     },
     "metadata": {},
     "output_type": "display_data"
    }
   ],
   "source": [
    "# Plot BTC price\n",
    "fig, ax = plt.subplots()\n",
    "dates = tuple(map(lambda x: x['date'], BTCdata))\n",
    "numbers = tuple(map(lambda x: x['price'], BTCdata))\n",
    "\n",
    "\n",
    "y_pos = np.arange(len(dates))\n",
    "error = np.random.rand(len(dates))\n",
    "\n",
    "ax.bar(y_pos, numbers, align='center',\n",
    "        color='lightblue', ecolor='black')\n",
    "labels = [date if i%30==0 else '' for i, date in enumerate(dates)]\n",
    "ax.set_xticks(np.arange(len(labels)))\n",
    "ax.set_xticklabels(labels)\n",
    "\n",
    "ax.set_xlabel('Date ('+str(len(dates))+ ' dayes)')\n",
    "ax.set_ylabel('Number of good news)')\n",
    "ax.set_title('How many good news published a day?')\n",
    "\n",
    "plt.show()\n"
   ]
  },
  {
   "cell_type": "code",
   "execution_count": 11,
   "metadata": {},
   "outputs": [
    {
     "name": "stdout",
     "output_type": "stream",
     "text": [
      "dataset shape (200, 20)\n",
      "date \t\t price \t volume \t goodNews\n",
      "dataset\n",
      "array([['2017-04-26', '1266.47', '234583172.22', '22'],\n",
      "       ['2017-04-27', '1281.22', '324066661.92', '17'],\n",
      "       ['2017-04-28', '1317.39', '441649727.94', '13'],\n",
      "       ['2017-04-29', '1297.62', '517402617.84', '5'],\n",
      "       ['2017-04-30', '1322.91', '428477319.9', '6']],\n",
      "      dtype='<U13')\n",
      "dataset concated\n",
      "array([['2017-04-28', '1317.39', '441649727.94', '13', '1266.47',\n",
      "        '234583172.22', '22', '1281.22', '324066661.92', '17'],\n",
      "       ['2017-04-29', '1297.62', '517402617.84', '5', '1317.39',\n",
      "        '441649727.94', '13', '1266.47', '234583172.22', '22'],\n",
      "       ['2017-04-30', '1322.91', '428477319.9', '6', '1297.62',\n",
      "        '517402617.84', '5', '1317.39', '441649727.94', '13'],\n",
      "       ['2017-05-01', '1343.03', '405648781.2', '16', '1322.91',\n",
      "        '428477319.9', '6', '1297.62', '517402617.84', '5'],\n",
      "       ['2017-05-02', '1431.47', '710054927.04', '41', '1343.03',\n",
      "        '405648781.2', '16', '1322.91', '428477319.9', '6']],\n",
      "      dtype='<U13')\n"
     ]
    }
   ],
   "source": [
    "# combin the two source to make final dataset\n",
    "'''\n",
    "Target: \n",
    "Regression: price day+0\n",
    "Classification: Price goes UP or Down\n",
    "\n",
    "Attr:\n",
    "price day-1\n",
    "good news day-1\n",
    "bad news day-1\n",
    "valum day-1\n",
    "price day-2\n",
    "good news day-2\n",
    "bad news day-2\n",
    "valum day-2\n",
    "...\n",
    "..\n",
    "price day-PERIOD\n",
    "good news day-PERIOD\n",
    "bad news day-PERIOD\n",
    "valum day-X\n",
    "'''\n",
    "PERIOD = 5\n",
    "m = min(len(BTCdata), len(NumberOfGoodNewsByDate))\n",
    "n = PERIOD * 4\n",
    "dataset = np.zeros([m, n])\n",
    "print('dataset shape', shape(dataset))\n",
    "\n",
    "# hash date %d-%m-%Y\n",
    "BTCdic = {a['date']: [a['price'], a['volume24']] for a in BTCdata}\n",
    "NEWSdic = {a['date']: [a['count']] for a in NumberOfGoodNewsByDate}\n",
    "#pprint(list(BTCdic.items())[:5])\n",
    "#pprint(list(NEWSdic.items())[:5])\n",
    "\n",
    "# to YYYY-MM-DD\n",
    "def toYYYY_MM_DD(s):\n",
    "    return s[6:] +'-'+ s[3:5] +'-'+ s[:2]\n",
    "\n",
    "InnerJoined = { toYYYY_MM_DD(k): BTCdic[k] + NEWSdic[k] for k, v in BTCdic.items() if k in NEWSdic }\n",
    "print('date \\t\\t price \\t volume \\t goodNews')\n",
    "dataset = list( sorted(InnerJoined.items(), key=lambda x:x[0]) )\n",
    "dataset = list(map(lambda x: [x[0]] + x[1], dataset))\n",
    "\n",
    "finaldata = []\n",
    "prev1, prev2 = dataset[:2]\n",
    "for d in dataset[2:]:\n",
    "    finaldata.append(d + prev1[1:] + prev2[1:])\n",
    "    prev1, prev2 = d, prev1\n",
    "\n",
    "dataset = np.array(dataset)\n",
    "finaldata = np.array(finaldata)\n",
    "print('dataset')\n",
    "pprint(dataset[:5])\n",
    "print('dataset concated')\n",
    "pprint(finaldata[:5])\n"
   ]
  },
  {
   "cell_type": "code",
   "execution_count": null,
   "metadata": {},
   "outputs": [],
   "source": []
  },
  {
   "cell_type": "code",
   "execution_count": null,
   "metadata": {},
   "outputs": [],
   "source": []
  }
 ],
 "metadata": {
  "kernelspec": {
   "display_name": "Python 3",
   "language": "python",
   "name": "python3"
  },
  "language_info": {
   "codemirror_mode": {
    "name": "ipython",
    "version": 3
   },
   "file_extension": ".py",
   "mimetype": "text/x-python",
   "name": "python",
   "nbconvert_exporter": "python",
   "pygments_lexer": "ipython3",
   "version": "3.6.3"
  }
 },
 "nbformat": 4,
 "nbformat_minor": 2
}
